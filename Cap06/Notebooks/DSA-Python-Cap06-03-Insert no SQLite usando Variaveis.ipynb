{
 "cells": [
  {
   "cell_type": "markdown",
   "metadata": {},
   "source": [
    "# <font color='blue'>Data Science Academy - Python Fundamentos - Capítulo 6</font>\n",
    "\n",
    "## Download: http://github.com/dsacademybr"
   ]
  },
  {
   "cell_type": "markdown",
   "metadata": {},
   "source": [
    "### Inserindo Dados com Variáveis"
   ]
  },
  {
   "cell_type": "code",
   "execution_count": 1,
   "metadata": {},
   "outputs": [],
   "source": [
    "import sqlite3\n",
    "import random\n",
    "import time\n",
    "import datetime\n",
    " \n",
    "# Criando uma conexão\n",
    "conn = sqlite3.connect('dsa.db')\n",
    "\n",
    "# Criando um cursos\n",
    "c = conn.cursor()\n",
    "\n",
    "# Função para criar uma tabela\n",
    "def create_table():\n",
    "    c.execute('CREATE TABLE IF NOT EXISTS produtos(id INTEGER PRIMARY KEY AUTOINCREMENT NOT NULL, date TEXT, '\\\n",
    "              'produ_name TEXT, valor REAL)')\n",
    "\n",
    "# Função para inserir uma linha\n",
    "def data_insert():\n",
    "    c.execute(\"INSERT INTO produtos VALUES('2018-05-02 12:34:45', 'Teclado', 130.00)\")\n",
    "    conn.commit()\n",
    "    c.close()\n",
    "    conn.close()\n",
    "\n",
    "# Usando variáveis para inserir dados\n",
    "def data_insert_var():\n",
    "    new_date = datetime.datetime.now()\n",
    "    new_prod_name = 'Monitor'\n",
    "    new_valor = random.randrange(50,100)\n",
    "    c.execute(\"INSERT INTO produtos (date, prod_name, valor) VALUES (?, ?, ?)\", (new_date, new_prod_name, new_valor))\n",
    "    conn.commit()"
   ]
  },
  {
   "cell_type": "code",
   "execution_count": 3,
   "metadata": {},
   "outputs": [],
   "source": [
    "# Gerando valores e inserindo na tabela\n",
    "for i in range(10):\n",
    "    data_insert_var()\n",
    "    time.sleep(1)"
   ]
  },
  {
   "cell_type": "code",
   "execution_count": 7,
   "metadata": {},
   "outputs": [],
   "source": [
    "c.execute(\"SELECT * from produtos\")\n",
    "data = c.fetchall()"
   ]
  },
  {
   "cell_type": "code",
   "execution_count": 9,
   "metadata": {},
   "outputs": [
    {
     "name": "stdout",
     "output_type": "stream",
     "text": [
      "(10, '2018-05-02 14:32:11', 'Teclado', 90.0)\n",
      "(11, '2019-05-06 15:01:19.646079', 'Monitor', 54.0)\n",
      "(12, '2019-05-06 15:01:20.726494', 'Monitor', 72.0)\n",
      "(13, '2019-05-06 15:01:21.783563', 'Monitor', 79.0)\n",
      "(14, '2019-05-06 15:01:22.841428', 'Monitor', 51.0)\n",
      "(15, '2019-05-06 15:01:23.900499', 'Monitor', 96.0)\n",
      "(16, '2019-05-06 15:01:24.975663', 'Monitor', 80.0)\n",
      "(17, '2019-05-06 15:01:26.033431', 'Monitor', 59.0)\n",
      "(18, '2019-05-06 15:01:27.092572', 'Monitor', 89.0)\n",
      "(19, '2019-05-06 15:01:28.151065', 'Monitor', 95.0)\n",
      "(20, '2019-05-06 15:01:29.209547', 'Monitor', 81.0)\n",
      "(21, '2019-05-06 15:01:54.468665', 'Monitor', 53.0)\n",
      "(22, '2019-05-06 15:01:55.539023', 'Monitor', 57.0)\n",
      "(23, '2019-05-06 15:01:56.596374', 'Monitor', 97.0)\n",
      "(24, '2019-05-06 15:01:57.646589', 'Monitor', 68.0)\n",
      "(25, '2019-05-06 15:01:58.713379', 'Monitor', 78.0)\n",
      "(26, '2019-05-06 15:01:59.763488', 'Monitor', 72.0)\n",
      "(27, '2019-05-06 15:02:00.813440', 'Monitor', 97.0)\n",
      "(28, '2019-05-06 15:02:01.863761', 'Monitor', 96.0)\n",
      "(29, '2019-05-06 15:02:02.988903', 'Monitor', 95.0)\n",
      "(30, '2019-05-06 15:02:04.047368', 'Monitor', 61.0)\n"
     ]
    }
   ],
   "source": [
    "for i in data:\n",
    "    print(i)"
   ]
  },
  {
   "cell_type": "code",
   "execution_count": 10,
   "metadata": {},
   "outputs": [],
   "source": [
    "# Encerrando a conexão\n",
    "c.close()\n",
    "conn.close()"
   ]
  },
  {
   "cell_type": "markdown",
   "metadata": {},
   "source": [
    "# Fim"
   ]
  },
  {
   "cell_type": "markdown",
   "metadata": {},
   "source": [
    "### Obrigado - Data Science Academy - <a href=\"http://facebook.com/dsacademybr\">facebook.com/dsacademybr</a>"
   ]
  }
 ],
 "metadata": {
  "kernelspec": {
   "display_name": "Python [default]",
   "language": "python",
   "name": "python3"
  },
  "language_info": {
   "codemirror_mode": {
    "name": "ipython",
    "version": 3
   },
   "file_extension": ".py",
   "mimetype": "text/x-python",
   "name": "python",
   "nbconvert_exporter": "python",
   "pygments_lexer": "ipython3",
   "version": "3.5.6"
  }
 },
 "nbformat": 4,
 "nbformat_minor": 1
}
