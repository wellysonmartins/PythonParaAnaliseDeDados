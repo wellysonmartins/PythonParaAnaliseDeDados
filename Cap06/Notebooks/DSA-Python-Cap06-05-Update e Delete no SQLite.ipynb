{
 "cells": [
  {
   "cell_type": "markdown",
   "metadata": {},
   "source": [
    "# <font color='blue'>Data Science Academy - Python Fundamentos - Capítulo 6</font>\n",
    "\n",
    "## Download: http://github.com/dsacademybr"
   ]
  },
  {
   "cell_type": "markdown",
   "metadata": {},
   "source": [
    "### Update e Delete"
   ]
  },
  {
   "cell_type": "code",
   "execution_count": 2,
   "metadata": {},
   "outputs": [],
   "source": [
    "import sqlite3\n",
    "import random\n",
    "import time\n",
    "import datetime\n",
    " \n",
    "# Criando uma conexão\n",
    "conn = sqlite3.connect('dsa.db')   \n",
    "\n",
    "# Criando um cursor\n",
    "c = conn.cursor()\n",
    " \n",
    "# Função para criar uma tabela\n",
    "def create_table():\n",
    "    c.execute('CREATE TABLE IF NOT EXISTS produtos(id INTEGER PRIMARY KEY AUTOINCREMENT NOT NULL, date TEXT, '\\\n",
    "              'prod_name TEXT, valor REAL)')\n",
    "      \n",
    "# Função para inserir uma linha\n",
    "def data_insert():\n",
    "    c.execute(\"INSERT INTO produtos VALUES(002, '02-05-2016', 'teclado', 130 )\")\n",
    "    conn.commit()\n",
    "    c.close()\n",
    "    conn.close()\n",
    "    \n",
    "# Usando variáveis para inserir dados    \n",
    "def data_insert_var():\n",
    "    new_date = datetime.datetime.now()\n",
    "    new_prod_name = 'monitor'\n",
    "    new_valor = random.randrange(50,100)\n",
    "    c.execute(\"INSERT INTO produtos (date, prod_name, valor) VALUES (?, ?, ?, ?)\", \n",
    "              (new_date, new_prod_name, new_valor))\n",
    "    conn.commit()\n",
    "    \n",
    "# Leitura de dados\n",
    "def leitura_todos_dados():\n",
    "    c.execute(\"SELECT * FROM PRODUTOS\")\n",
    "    for linha in c.fetchall():\n",
    "        print(linha)\n",
    "        \n",
    "# Leitura de registros específicos\n",
    "def leitura_registros():\n",
    "    c.execute(\"SELECT * FROM PRODUTOS WHERE valor > 70.0\")\n",
    "    for linha in c.fetchall():\n",
    "        print(linha)      \n",
    "        \n",
    "# Leitura de colunas específicos\n",
    "def leitura_colunas():\n",
    "    c.execute(\"SELECT * FROM PRODUTOS\")\n",
    "    for linha in c.fetchall():\n",
    "        print(linha[3])  \n",
    "        \n",
    "# Update\n",
    "def atualiza_dados():\n",
    "    c.execute(\"UPDATE produtos SET valor = 70.00 WHERE valor = 98.0\")\n",
    "    conn.commit()\n",
    "    \n",
    "# Delete\n",
    "def remove_dados():\n",
    "    c.execute(\"DELETE FROM produtos WHERE valor = 62.0\")\n",
    "    conn.commit()"
   ]
  },
  {
   "cell_type": "code",
   "execution_count": 3,
   "metadata": {},
   "outputs": [],
   "source": [
    "atualiza_dados()"
   ]
  },
  {
   "cell_type": "code",
   "execution_count": 4,
   "metadata": {},
   "outputs": [
    {
     "name": "stdout",
     "output_type": "stream",
     "text": [
      "(10, '2018-05-02 14:32:11', 'Teclado', 90.0)\n",
      "(11, '2019-05-06 15:01:19.646079', 'Monitor', 54.0)\n",
      "(12, '2019-05-06 15:01:20.726494', 'Monitor', 72.0)\n",
      "(13, '2019-05-06 15:01:21.783563', 'Monitor', 79.0)\n",
      "(14, '2019-05-06 15:01:22.841428', 'Monitor', 51.0)\n",
      "(15, '2019-05-06 15:01:23.900499', 'Monitor', 96.0)\n",
      "(16, '2019-05-06 15:01:24.975663', 'Monitor', 80.0)\n",
      "(17, '2019-05-06 15:01:26.033431', 'Monitor', 59.0)\n",
      "(18, '2019-05-06 15:01:27.092572', 'Monitor', 89.0)\n",
      "(19, '2019-05-06 15:01:28.151065', 'Monitor', 95.0)\n",
      "(20, '2019-05-06 15:01:29.209547', 'Monitor', 81.0)\n",
      "(21, '2019-05-06 15:01:54.468665', 'Monitor', 53.0)\n",
      "(22, '2019-05-06 15:01:55.539023', 'Monitor', 57.0)\n",
      "(23, '2019-05-06 15:01:56.596374', 'Monitor', 97.0)\n",
      "(24, '2019-05-06 15:01:57.646589', 'Monitor', 68.0)\n",
      "(25, '2019-05-06 15:01:58.713379', 'Monitor', 78.0)\n",
      "(26, '2019-05-06 15:01:59.763488', 'Monitor', 72.0)\n",
      "(27, '2019-05-06 15:02:00.813440', 'Monitor', 97.0)\n",
      "(28, '2019-05-06 15:02:01.863761', 'Monitor', 96.0)\n",
      "(29, '2019-05-06 15:02:02.988903', 'Monitor', 95.0)\n",
      "(30, '2019-05-06 15:02:04.047368', 'Monitor', 61.0)\n"
     ]
    }
   ],
   "source": [
    "leitura_todos_dados()"
   ]
  },
  {
   "cell_type": "code",
   "execution_count": 5,
   "metadata": {},
   "outputs": [],
   "source": [
    "remove_dados()"
   ]
  },
  {
   "cell_type": "code",
   "execution_count": 6,
   "metadata": {},
   "outputs": [
    {
     "name": "stdout",
     "output_type": "stream",
     "text": [
      "(10, '2018-05-02 14:32:11', 'Teclado', 90.0)\n",
      "(11, '2019-05-06 15:01:19.646079', 'Monitor', 54.0)\n",
      "(12, '2019-05-06 15:01:20.726494', 'Monitor', 72.0)\n",
      "(13, '2019-05-06 15:01:21.783563', 'Monitor', 79.0)\n",
      "(14, '2019-05-06 15:01:22.841428', 'Monitor', 51.0)\n",
      "(15, '2019-05-06 15:01:23.900499', 'Monitor', 96.0)\n",
      "(16, '2019-05-06 15:01:24.975663', 'Monitor', 80.0)\n",
      "(17, '2019-05-06 15:01:26.033431', 'Monitor', 59.0)\n",
      "(18, '2019-05-06 15:01:27.092572', 'Monitor', 89.0)\n",
      "(19, '2019-05-06 15:01:28.151065', 'Monitor', 95.0)\n",
      "(20, '2019-05-06 15:01:29.209547', 'Monitor', 81.0)\n",
      "(21, '2019-05-06 15:01:54.468665', 'Monitor', 53.0)\n",
      "(22, '2019-05-06 15:01:55.539023', 'Monitor', 57.0)\n",
      "(23, '2019-05-06 15:01:56.596374', 'Monitor', 97.0)\n",
      "(24, '2019-05-06 15:01:57.646589', 'Monitor', 68.0)\n",
      "(25, '2019-05-06 15:01:58.713379', 'Monitor', 78.0)\n",
      "(26, '2019-05-06 15:01:59.763488', 'Monitor', 72.0)\n",
      "(27, '2019-05-06 15:02:00.813440', 'Monitor', 97.0)\n",
      "(28, '2019-05-06 15:02:01.863761', 'Monitor', 96.0)\n",
      "(29, '2019-05-06 15:02:02.988903', 'Monitor', 95.0)\n",
      "(30, '2019-05-06 15:02:04.047368', 'Monitor', 61.0)\n"
     ]
    }
   ],
   "source": [
    "leitura_todos_dados()"
   ]
  },
  {
   "cell_type": "code",
   "execution_count": 176,
   "metadata": {},
   "outputs": [],
   "source": [
    "# Criando uma conxão com o banco de dados\n",
    "conn = sqlite3.connect('teste.db')"
   ]
  },
  {
   "cell_type": "code",
   "execution_count": 177,
   "metadata": {},
   "outputs": [],
   "source": [
    "# Criando o curso\n",
    "c = conn.cursor()"
   ]
  },
  {
   "cell_type": "code",
   "execution_count": 209,
   "metadata": {},
   "outputs": [],
   "source": [
    "def create_table(table):\n",
    "    c.execute(\"CREATE TABLE IF NOT EXISTS %s (id INTEGER PRIMARY KEY AUTOINCREMENT NOT NULL, nome TEXT)\" % table)"
   ]
  },
  {
   "cell_type": "code",
   "execution_count": 213,
   "metadata": {},
   "outputs": [],
   "source": [
    "def data_insert(aluno, table):\n",
    "    c.execute(\"INSERT INTO %s (nome) VALUES (?)\" %table, (aluno,))\n",
    "    conn.commit()"
   ]
  },
  {
   "cell_type": "code",
   "execution_count": 214,
   "metadata": {},
   "outputs": [],
   "source": [
    "def data_readAll(table):\n",
    "    c.execute(\"SELECT * FROM %s\" %table)\n",
    "    for linha in c.fetchall():\n",
    "        print(linha)"
   ]
  },
  {
   "cell_type": "code",
   "execution_count": 215,
   "metadata": {},
   "outputs": [],
   "source": [
    "create_table('teste')"
   ]
  },
  {
   "cell_type": "code",
   "execution_count": 216,
   "metadata": {},
   "outputs": [],
   "source": [
    "data_insert('Testando', 'teste')"
   ]
  },
  {
   "cell_type": "code",
   "execution_count": 217,
   "metadata": {},
   "outputs": [
    {
     "name": "stdout",
     "output_type": "stream",
     "text": [
      "(1, 'Wellyson')\n",
      "(2, 'Wellyson Martins')\n",
      "(3, 'Mônica Martins')\n",
      "(4, 'Teste')\n",
      "(5, 'Testando')\n",
      "(6, 'Testando')\n",
      "(7, 'Testando')\n",
      "(8, 'Testando')\n"
     ]
    }
   ],
   "source": [
    "data_readAll('alunos')"
   ]
  },
  {
   "cell_type": "code",
   "execution_count": 218,
   "metadata": {},
   "outputs": [
    {
     "name": "stdout",
     "output_type": "stream",
     "text": [
      "(1, 'Testando')\n"
     ]
    }
   ],
   "source": [
    "data_readAll('teste')"
   ]
  },
  {
   "cell_type": "markdown",
   "metadata": {},
   "source": [
    "# Fim"
   ]
  },
  {
   "cell_type": "markdown",
   "metadata": {},
   "source": [
    "### Obrigado - Data Science Academy - <a href=\"http://facebook.com/dsacademybr\">facebook.com/dsacademybr</a>"
   ]
  }
 ],
 "metadata": {
  "kernelspec": {
   "display_name": "Python [default]",
   "language": "python",
   "name": "python3"
  },
  "language_info": {
   "codemirror_mode": {
    "name": "ipython",
    "version": 3
   },
   "file_extension": ".py",
   "mimetype": "text/x-python",
   "name": "python",
   "nbconvert_exporter": "python",
   "pygments_lexer": "ipython3",
   "version": "3.5.6"
  }
 },
 "nbformat": 4,
 "nbformat_minor": 1
}
