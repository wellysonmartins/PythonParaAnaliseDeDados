{
 "cells": [
  {
   "cell_type": "markdown",
   "metadata": {},
   "source": [
    "# <font color='blue'>Data Science Academy - Python Fundamentos - Capítulo 10</font>\n",
    "\n",
    "## Download: http://github.com/dsacademybr"
   ]
  },
  {
   "cell_type": "markdown",
   "metadata": {},
   "source": [
    "# Lab 4 - Construindo um Modelo de Regressão Linear com TensorFlow"
   ]
  },
  {
   "cell_type": "markdown",
   "metadata": {},
   "source": [
    "Use como referência o Deep Learning Book: http://www.deeplearningbook.com.br/"
   ]
  },
  {
   "cell_type": "code",
   "execution_count": 1,
   "metadata": {},
   "outputs": [],
   "source": [
    "# Imports\n",
    "import tensorflow as tf\n",
    "import numpy as np\n",
    "import matplotlib.pyplot as plt\n",
    "%matplotlib inline"
   ]
  },
  {
   "cell_type": "markdown",
   "metadata": {},
   "source": [
    "## Definindo os hyperparâmetros do modelo"
   ]
  },
  {
   "cell_type": "code",
   "execution_count": 2,
   "metadata": {},
   "outputs": [],
   "source": [
    "# Hyperparâmetros do modelo\n",
    "learning_rate = 0.01\n",
    "training_epochs = 2000\n",
    "display_step = 200"
   ]
  },
  {
   "cell_type": "markdown",
   "metadata": {},
   "source": [
    "## Definindo os datasets de treino e de teste\n",
    "\n",
    "## Considere X como o tamanho de uma casa e y o preço de uma casa"
   ]
  },
  {
   "cell_type": "code",
   "execution_count": 3,
   "metadata": {},
   "outputs": [],
   "source": [
    "# Dataset de treino\n",
    "train_X = np.asarray([3.3,4.4,5.5,6.71,6.93,4.168,9.779,6.182,7.59,2.167,7.042,10.791,5.313,7.997,5.654,9.27,3.1])\n",
    "train_y = np.asarray([1.7,2.76,2.09,3.19,1.694,1.573,3.366,2.596,2.53,1.221,2.827,3.465,1.65,2.904,2.42,2.94,1.3])\n",
    "n_samples = train_X.shape[0]\n",
    " \n",
    "# Dataset de teste\n",
    "test_X = np.asarray([6.83, 4.668, 8.9, 7.91, 5.7, 8.7, 3.1, 2.1])\n",
    "test_y = np.asarray([1.84, 2.273, 3.2, 2.831, 2.92, 3.24, 1.35, 1.03])"
   ]
  },
  {
   "cell_type": "markdown",
   "metadata": {},
   "source": [
    "## Placeholders e variáveis"
   ]
  },
  {
   "cell_type": "code",
   "execution_count": 4,
   "metadata": {},
   "outputs": [
    {
     "name": "stdout",
     "output_type": "stream",
     "text": [
      "WARNING:tensorflow:From /home/wellyson/anaconda3/lib/python3.6/site-packages/tensorflow/python/framework/op_def_library.py:263: colocate_with (from tensorflow.python.framework.ops) is deprecated and will be removed in a future version.\n",
      "Instructions for updating:\n",
      "Colocations handled automatically by placer.\n"
     ]
    }
   ],
   "source": [
    "# Placeholders para as variáveis preditoras (x) e para  variável target (y)\n",
    "X = tf.placeholder(tf.float32)\n",
    "y = tf.placeholder(tf.float32)\n",
    " \n",
    "# Pesos e bias do modelo\n",
    "W = tf.Variable(np.random.randn(), name=\"weight\")\n",
    "b = tf.Variable(np.random.randn(), name=\"bias\")"
   ]
  },
  {
   "cell_type": "markdown",
   "metadata": {},
   "source": [
    "## Construindo o modelo"
   ]
  },
  {
   "cell_type": "code",
   "execution_count": 5,
   "metadata": {},
   "outputs": [
    {
     "name": "stdout",
     "output_type": "stream",
     "text": [
      "WARNING:tensorflow:From /home/wellyson/anaconda3/lib/python3.6/site-packages/tensorflow/python/ops/math_ops.py:3066: to_int32 (from tensorflow.python.ops.math_ops) is deprecated and will be removed in a future version.\n",
      "Instructions for updating:\n",
      "Use tf.cast instead.\n"
     ]
    }
   ],
   "source": [
    "# Construindo o modelo linear\n",
    "# Fórmula do modelo linear: y = W*X + b\n",
    "linear_model = W*X + b\n",
    " \n",
    "# Mean squared error (erro quadrado médio)\n",
    "cost = tf.reduce_sum(tf.square(linear_model - y)) / (2*n_samples)\n",
    " \n",
    "# Otimização com Gradient descent\n",
    "optimizer = tf.train.GradientDescentOptimizer(learning_rate).minimize(cost)"
   ]
  },
  {
   "cell_type": "markdown",
   "metadata": {},
   "source": [
    "## Executando o grafo computacional, treinando e testando o modelo"
   ]
  },
  {
   "cell_type": "code",
   "execution_count": 6,
   "metadata": {},
   "outputs": [
    {
     "name": "stdout",
     "output_type": "stream",
     "text": [
      "Epoch:   200 \t Cost:    0.1243 \t W:0.3751 \t b:-0.07626\n",
      "Epoch:   400 \t Cost:    0.1061 \t W:0.3484 \t b:0.1125\n",
      "Epoch:   600 \t Cost:   0.09487 \t W:0.3276 \t b:0.2605\n",
      "Epoch:   800 \t Cost:   0.08796 \t W:0.3112 \t b:0.3766\n",
      "Epoch:  1000 \t Cost:   0.08372 \t W:0.2983 \t b:0.4676\n",
      "Epoch:  1200 \t Cost:   0.08111 \t W:0.2883 \t b: 0.539\n",
      "Epoch:  1400 \t Cost:    0.0795 \t W:0.2804 \t b:0.5951\n",
      "Epoch:  1600 \t Cost:   0.07851 \t W:0.2742 \t b: 0.639\n",
      "Epoch:  1800 \t Cost:    0.0779 \t W:0.2693 \t b:0.6735\n",
      "Epoch:  2000 \t Cost:   0.07753 \t W:0.2655 \t b:0.7005\n",
      "\n",
      "Otimização Concluída!\n",
      "Custo Final de Treinamento: 0.07752702  - W Final: 0.2655011  - b Final: 0.70049626 \n",
      "\n"
     ]
    },
    {
     "data": {
      "image/png": "[encoded data removed]",
      "text/plain": [
       "<Figure size 432x288 with 1 Axes>"
      ]
     },
     "metadata": {
      "needs_background": "light"
     },
     "output_type": "display_data"
    },
    {
     "name": "stdout",
     "output_type": "stream",
     "text": [
      "Custo Final em Teste: 0.076134905\n",
      "Diferença Média Quadrada Absoluta: 0.0013921112\n"
     ]
    },
    {
     "data": {
      "image/png": "[encoded data removed]",
      "text/plain": [
       "<Figure size 432x288 with 1 Axes>"
      ]
     },
     "metadata": {
      "needs_background": "light"
     },
     "output_type": "display_data"
    }
   ],
   "source": [
    "# Definindo a inicialização das variáveis\n",
    "init = tf.global_variables_initializer()\n",
    " \n",
    "# Iniciando a sessão\n",
    "with tf.Session() as sess:\n",
    "    # Iniciando as variáveis\n",
    "    sess.run(init)\n",
    " \n",
    "    # Treinamento do modelo\n",
    "    for epoch in range(training_epochs):\n",
    " \n",
    "        # Otimização com Gradient Descent\n",
    "        sess.run(optimizer, feed_dict={X: train_X, y: train_y})\n",
    "         \n",
    "        # Display de cada epoch\n",
    "        if (epoch+1) % display_step == 0:\n",
    "            c = sess.run(cost, feed_dict={X: train_X, y: train_y})\n",
    "            print(\"Epoch:{0:6} \\t Cost:{1:10.4} \\t W:{2:6.4} \\t b:{3:6.4}\".format(epoch+1, c, sess.run(W), sess.run(b)))\n",
    "             \n",
    "    # Imprimindo os parâmetros finais do modelo\n",
    "    print(\"\\nOtimização Concluída!\")\n",
    "    training_cost = sess.run(cost, feed_dict={X: train_X, y: train_y})\n",
    "    print(\"Custo Final de Treinamento:\", training_cost, \" - W Final:\", sess.run(W), \" - b Final:\", sess.run(b), '\\n')\n",
    "     \n",
    "    # Visualizando o resultado\n",
    "    plt.plot(train_X, train_y, 'ro', label='Dados Originais')\n",
    "    plt.plot(train_X, sess.run(W) * train_X + sess.run(b), label='Linha de Regressão')\n",
    "    plt.legend()\n",
    "    plt.show()\n",
    " \n",
    "    # Testando o modelo\n",
    "    testing_cost = sess.run(tf.reduce_sum(tf.square(linear_model - y)) / (2 * test_X.shape[0]), \n",
    "                            feed_dict={X: test_X, y: test_y})\n",
    "     \n",
    "    print(\"Custo Final em Teste:\", testing_cost)\n",
    "    print(\"Diferença Média Quadrada Absoluta:\", abs(training_cost - testing_cost))\n",
    " \n",
    "    # Display em Teste\n",
    "    plt.plot(test_X, test_y, 'bo', label='Dados de Teste')\n",
    "    plt.plot(train_X, sess.run(W) * train_X + sess.run(b), label='Linha de Regressão')\n",
    "    plt.legend()\n",
    "    plt.show()\n",
    "    \n",
    "sess.close()"
   ]
  },
  {
   "cell_type": "markdown",
   "metadata": {},
   "source": [
    "Conheça a Formação Inteligência Artificial, um programa completo, 100% online e 100% em português, com 402 horas em 9 cursos de nível intermediário/avançado, que vão ajudá-lo a se tornar um dos profissionais mais cobiçados do mercado de tecnologia. Clique no link abaixo, faça sua inscrição, comece hoje mesmo e aumente sua empregabilidade:\n",
    "\n",
    "https://www.datascienceacademy.com.br/pages/formacao-inteligencia-artificial"
   ]
  },
  {
   "cell_type": "markdown",
   "metadata": {
    "collapsed": true
   },
   "source": [
    "# Fim"
   ]
  },
  {
   "cell_type": "markdown",
   "metadata": {
    "collapsed": true
   },
   "source": [
    "### Obrigado - Data Science Academy - <a href=\"http://facebook.com/dsacademybr\">facebook.com/dsacademybr</a>"
   ]
  }
 ],
 "metadata": {
  "kernelspec": {
   "display_name": "Python 3",
   "language": "python",
   "name": "python3"
  },
  "language_info": {
   "codemirror_mode": {
    "name": "ipython",
    "version": 3
   },
   "file_extension": ".py",
   "mimetype": "text/x-python",
   "name": "python",
   "nbconvert_exporter": "python",
   "pygments_lexer": "ipython3",
   "version": "3.6.8"
  }
 },
 "nbformat": 4,
 "nbformat_minor": 1
}
